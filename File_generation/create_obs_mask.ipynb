{
 "cells": [
  {
   "cell_type": "code",
   "execution_count": 1,
   "metadata": {},
   "outputs": [],
   "source": [
    "%matplotlib inline\n",
    "import proplot as pplt # plotting\n",
    "import numpy as np # might be useful\n",
    "import pandas as pd # for reading the csv files\n",
    "import datetime as dt # for date handling\n",
    "#import PyCO2SYS as pyco2 # Carbon Chemistry\n",
    "import BG.readDat as rd # reading the files\n",
    "from datetime import datetime\n",
    "#import cftime as cft\n",
    "import xarray as xr\n",
    "from matplotlib import pyplot as plt\n",
    "import cartopy.feature as cfeature\n",
    "import os\n",
    "\n",
    "# read files\n",
    "dsm = xr.open_dataset('OUTPUT/Michel_2021_NAA.nc')\n",
    "# read some of the files from Amundsen Science (for now)\n",
    "files = os.listdir('OUTPUT/AMS/')\n",
    "file_list =[]\n",
    "for l in range(0,len(files)):file_list.append('OUTPUT/AMS/' + files[l]) \n",
    "dsa = xr.open_mfdataset(file_list)\n",
    "gldp = xr.open_dataset('DATA/OBS_Clean/GLODAP_22.nc') \n",
    "dsc = xr.open_dataset('DATA/OBS_Clean/CROW_NAA_deptht.nc')\n",
    "ncds = xr.open_dataset('DATA/NAA_Area_Volume.nc') # read a file that contatis NAA info\n",
    "#dsa"
   ]
  },
  {
   "cell_type": "code",
   "execution_count": 2,
   "metadata": {},
   "outputs": [],
   "source": [
    "dsm = dsm.drop_vars('Stat_id')\n",
    "dsm = dsm.rename({'Station': 'Station_id'})"
   ]
  },
  {
   "cell_type": "code",
   "execution_count": 3,
   "metadata": {},
   "outputs": [],
   "source": [
    "dsa = dsa.drop_vars('Stat_id')\n",
    "dsa = dsa.rename({'Station': 'Station_id'})"
   ]
  },
  {
   "cell_type": "code",
   "execution_count": 4,
   "metadata": {},
   "outputs": [
    {
     "name": "stdout",
     "output_type": "stream",
     "text": [
      "['Station_id', 'NAA_deptht']\n",
      "['NAA_Deptht', 'Stat_id']\n",
      "['NAA_deptht', 'Station_id']\n",
      "['NAA_Deptht', 'Stat_id']\n"
     ]
    }
   ],
   "source": [
    "print(list(dsa.coords))\n",
    "print(list(dsc.coords))\n",
    "print(list(dsm.coords))\n",
    "print(list(gldp.coords))"
   ]
  },
  {
   "cell_type": "code",
   "execution_count": 5,
   "metadata": {},
   "outputs": [],
   "source": [
    "dsc = dsc.rename({'Stat_id': 'Station_id'})"
   ]
  },
  {
   "cell_type": "code",
   "execution_count": 6,
   "metadata": {},
   "outputs": [],
   "source": [
    "gldp = gldp.rename({'Stat_id': 'Station_id'})"
   ]
  },
  {
   "cell_type": "code",
   "execution_count": 7,
   "metadata": {},
   "outputs": [],
   "source": [
    "#socat = xr.open_dataset('DATA/OBS/SOCAT_2022/SOCATv2022_tracks_gridded_monthly.nc')\n",
    "#socat"
   ]
  },
  {
   "cell_type": "code",
   "execution_count": 8,
   "metadata": {},
   "outputs": [],
   "source": [
    "#function definition: \n",
    "\n",
    "def dataframe_creator(ds):\n",
    "  # now go through Stations in OBS- Dataset and get the inices for the gridcells\n",
    "  ## I want a table with Station ID as one Column and a list of Inices as second Column\n",
    "  df = pd.DataFrame(columns = ['Station_ID', 'X_NAA', 'Y_NAA', 'Lon', 'Lat'])#, 'Month', 'Year'])\n",
    "  for i in range(0, len(ds['Station_id'])):\n",
    "    dslice = ds.isel(Station_id = i)\n",
    "    A = str(dslice.coords['Station_id'].values)\n",
    "    B = np.array(dslice['X_NAA'])\n",
    "    C = np.array(dslice['Y_NAA'])\n",
    "    D = float(dslice.Longitude.values)\n",
    "    E =float(dslice.Latitude.values)\n",
    "    \n",
    "    dummy = pd.DataFrame({'Station_ID': A, 'X_NAA':B, 'Y_NAA':C, 'Lon':D, 'Lat':E}, index = [i]) #'Month':F, 'Year':G \n",
    "    df = df.append( dummy )\n",
    "    \n",
    "  return(df)\n"
   ]
  },
  {
   "cell_type": "code",
   "execution_count": 19,
   "metadata": {},
   "outputs": [
    {
     "name": "stdout",
     "output_type": "stream",
     "text": [
      "nans:  0\n",
      "total Stations:  117\n"
     ]
    }
   ],
   "source": [
    "\n",
    "# Create Masks from NAA grid for the OBS\n",
    "ds = dsm\n",
    "output_name = 'OUTPUT/OBS_mask-mea.nc'\n",
    "# get list of stations from OBS-DS\n",
    "df = dataframe_creator(ds)\n",
    "#df\n",
    "\n",
    "length = len(df.Station_ID)\n",
    "#turn the list objects from X_NAA/ Y_NAA into indices\n",
    "# If there are two entries for each, dublicate the row in the Dataframe\n",
    "coord_df = pd.DataFrame(columns = ['Station_ID', 'y_naa', 'x_naa'])\n",
    "for i in [*range(0,length,1)]: # 5)]:#\n",
    "  slice = df.iloc[i,:] # get a sinlge row -> dataslice\n",
    "  # I want a list of \n",
    "  # build in a switch to catch those things where double gridcells exist.\n",
    "  Y = slice['Y_NAA']\n",
    "  y = np.array(Y)\n",
    "  if ',' in Y: \n",
    "    yflag, yf= True, 1\n",
    "    l = Y.split(',')\n",
    "    if len(l) == 2 : \n",
    "      o = 2\n",
    "      y = int(l[0][1:])\n",
    "      y1 = int(l[1][:-1])\n",
    "      # Cant have them as pandas yet, dct first. Need to keep the x and y together, otherwise I am making a mess\n",
    "      d0 = pd.DataFrame({'Station_ID': slice['Station_ID'], 'y_naa': y}, index = [i])\n",
    "      d1 = pd.DataFrame({'Station_ID': slice['Station_ID'], 'y_naa': y1}, index = [i])\n",
    "    elif len(l) ==3 :  \n",
    "      o = 3 \n",
    "      y = int(l[0][1:])\n",
    "      y1 = int(l[1])\n",
    "      y2 = int(l[2][:-1])\n",
    "      # Cant have them as pandas yet, dct first. Need to keep the x and y together, otherwise I am making a mess\n",
    "      d0 = pd.DataFrame({'Station_ID': slice['Station_ID'], 'y_naa': y}, index = [i])\n",
    "      d1 = pd.DataFrame({'Station_ID': slice['Station_ID'], 'y_naa': y1}, index = [i])\n",
    "      d2 = pd.DataFrame({'Station_ID': slice['Station_ID'], 'y_naa': y2} , index = [i]) \n",
    "  else:\n",
    "    yflag, yf = False, 0\n",
    "    try: \n",
    "      o= 1\n",
    "      y =int(Y[1:-1]) # need to get things out of the '[aaa]'state into an actual integer.\n",
    "      d0 = pd.DataFrame({'Station_ID': slice['Station_ID'], 'y_naa': y}, index =[i])\n",
    "      #d1 = {'Station_ID': slice['Station_ID'], 'y_naa': y}\n",
    "    except:\n",
    "      y = 0   \n",
    "  \n",
    "  X = slice['X_NAA']\n",
    "  x = np.array(X)\n",
    "  if ',' in Y: \n",
    "    xflag, xf= True, 1\n",
    "    l = X.split(',')\n",
    "    if len(l) == 2 : \n",
    "      x = int(l[0][1:])\n",
    "      x1 = int(l[1][:-1])\n",
    "      # Cant have them as pandas yet, dct first. Need to keep the x and y together, otherwise I am making a mess\n",
    "      d0['x_naa'] = x\n",
    "      d1['x_naa'] = x1\n",
    "    elif len(l) ==3 :   \n",
    "      x = int(l[0][1:])\n",
    "      x1 = int(l[1])\n",
    "      x2 = int(l[2][:-1])\n",
    "      # Cant have them as pandas yet, dct first. Need to keep the x and y together, otherwise I am making a mess\n",
    "      d0['x_naa'] = x\n",
    "      d1['x_naa'] = x1\n",
    "      d2['x_naa'] = x2    \n",
    "  else:\n",
    "    xflag, xf = False, 0\n",
    "    try: \n",
    "      x =int(X[1:-1]) # need to get things out of the '[aaa]'state into an actual integer.\n",
    "      d0['x_naa'] = x\n",
    "      #d1['x_naa'] = x\n",
    "    except:\n",
    "      y = 0\n",
    "  \n",
    "  if o ==1 : \n",
    "    coord_df = coord_df.append(d0)  \n",
    "  elif o ==2: \n",
    "    coord_df = coord_df.append( [d0,d1] )  \n",
    "  elif o==3:\n",
    "      coord_df = coord_df.append([d0,d1,d2] )  \n",
    "  #print(d0)    \n",
    "  #print(d1)    \n",
    "#  dummy0 = pd.DataFrame(d0, index = [i])\n",
    "#  dummy1 = pd.DataFrame(d1, index = [i]) \n",
    "  \n",
    "\n",
    "\n",
    "# group by x_naa and get a list of unique y_naa values(keep int) \n",
    "si= coord_df.groupby('Station_ID')\n",
    "si_list = list(si.groups) # Y_list contains all the indices for the Y axis.\n",
    "mask = np.full(shape = (400, 568), fill_value= 'none', dtype = 'object') \n",
    "n_obs = np.zeros(shape = mask.shape)\n",
    "c = 0\n",
    "for g in range(0,len(si_list)): \n",
    "  sig = si.get_group(si_list[g])\n",
    "  #print(str(sig.Station_ID.iloc[0]))\n",
    "  ylist  = list(sig['y_naa'].unique())\n",
    "  xlist  = list(sig['x_naa'].unique())\n",
    "  \n",
    "  if ylist[0] < 999: # 999 is used as nan in AMS-Dataset\n",
    "    if xlist[0] < 999: \n",
    "      mask[ylist,xlist] = mask[ylist,xlist] + ' ; ' +str(sig.Station_ID.iloc[0])\n",
    "      n_obs[ylist,xlist] = n_obs[ylist,xlist] + 1\n",
    "    else:  pass #print('x ', xlist[0] )  \n",
    "  else: c = c+1#pass# print('y ', ylist[0] ) \n",
    "print('nans: ',c)\n",
    "print('total Stations: ', len(si_list))\n",
    "#coord_df\n",
    "# this works neatly. \n",
    "out_ds = xr.Dataset({'mask': (['y','x'], mask),\n",
    "                     'n_obs': (['y','x'], n_obs)},\n",
    "            coords = {'nav_lon': ncds.nav_lon,\n",
    "                      'nav_lat': ncds.nav_lat}, \n",
    "            attrs={'script': 'created with create_obs_mask.ipynb -- JLanger',\n",
    "             'cluster': 'Aeolus - Uvic',\n",
    "              'creation Date--time': str(datetime.now())})\n",
    "\n",
    "out_ds.to_netcdf(output_name)"
   ]
  },
  {
   "cell_type": "code",
   "execution_count": 15,
   "metadata": {},
   "outputs": [
    {
     "data": {
      "text/plain": [
       "2007"
      ]
     },
     "execution_count": 15,
     "metadata": {},
     "output_type": "execute_result"
    }
   ],
   "source": [
    "len(si_list)"
   ]
  },
  {
   "cell_type": "code",
   "execution_count": 10,
   "metadata": {},
   "outputs": [
    {
     "data": {
      "text/plain": [
       "<matplotlib.colorbar.Colorbar at 0x7fd9dc088bb0>"
      ]
     },
     "execution_count": 10,
     "metadata": {},
     "output_type": "execute_result"
    },
    {
     "data": {
      "image/png": "[encoded data removed]",
      "text/plain": [
       "<Figure size 400x400 with 2 Axes>"
      ]
     },
     "metadata": {
      "image/png": {
       "height": 400,
       "width": 400
      }
     },
     "output_type": "display_data"
    }
   ],
   "source": [
    "plt.pcolormesh(out_ds.n_obs[:150,:])\n",
    "plt.colorbar()"
   ]
  },
  {
   "cell_type": "code",
   "execution_count": 11,
   "metadata": {},
   "outputs": [
    {
     "ename": "NameError",
     "evalue": "name 'stop' is not defined",
     "output_type": "error",
     "traceback": [
      "\u001b[0;31m---------------------------------------------------------------------------\u001b[0m",
      "\u001b[0;31mNameError\u001b[0m                                 Traceback (most recent call last)",
      "\u001b[0;32m/tmp/ipykernel_1228/3957423419.py\u001b[0m in \u001b[0;36m<module>\u001b[0;34m\u001b[0m\n\u001b[0;32m----> 1\u001b[0;31m \u001b[0mstop\u001b[0m\u001b[0;34m\u001b[0m\u001b[0;34m\u001b[0m\u001b[0m\n\u001b[0m",
      "\u001b[0;31mNameError\u001b[0m: name 'stop' is not defined"
     ]
    }
   ],
   "source": [
    "stop"
   ]
  },
  {
   "cell_type": "code",
   "execution_count": null,
   "metadata": {},
   "outputs": [
    {
     "data": {
      "text/html": [
       "<div>\n",
       "<style scoped>\n",
       "    .dataframe tbody tr th:only-of-type {\n",
       "        vertical-align: middle;\n",
       "    }\n",
       "\n",
       "    .dataframe tbody tr th {\n",
       "        vertical-align: top;\n",
       "    }\n",
       "\n",
       "    .dataframe thead th {\n",
       "        text-align: right;\n",
       "    }\n",
       "</style>\n",
       "<table border=\"1\" class=\"dataframe\">\n",
       "  <thead>\n",
       "    <tr style=\"text-align: right;\">\n",
       "      <th></th>\n",
       "      <th>Station_ID</th>\n",
       "      <th>X_NAA</th>\n",
       "      <th>Y_NAA</th>\n",
       "      <th>Lon</th>\n",
       "      <th>Lat</th>\n",
       "    </tr>\n",
       "  </thead>\n",
       "  <tbody>\n",
       "    <tr>\n",
       "      <th>0</th>\n",
       "      <td>2004-01_AMS_CDT_2004001_001</td>\n",
       "      <td>[144, 145]</td>\n",
       "      <td>[96, 97]</td>\n",
       "      <td>-126.3017</td>\n",
       "      <td>70.0455</td>\n",
       "    </tr>\n",
       "    <tr>\n",
       "      <th>1</th>\n",
       "      <td>2004-01_AMS_CDT_2004001_002</td>\n",
       "      <td>[144, 145]</td>\n",
       "      <td>[96, 97]</td>\n",
       "      <td>-126.3015</td>\n",
       "      <td>70.0455</td>\n",
       "    </tr>\n",
       "    <tr>\n",
       "      <th>2</th>\n",
       "      <td>2004-01_AMS_CDT_2004001_003</td>\n",
       "      <td>[144, 145]</td>\n",
       "      <td>[96, 97]</td>\n",
       "      <td>-126.3015</td>\n",
       "      <td>70.0455</td>\n",
       "    </tr>\n",
       "    <tr>\n",
       "      <th>3</th>\n",
       "      <td>2004-01_AMS_CDT_2004001_004</td>\n",
       "      <td>[144, 145]</td>\n",
       "      <td>[96, 97]</td>\n",
       "      <td>-126.3015</td>\n",
       "      <td>70.0455</td>\n",
       "    </tr>\n",
       "    <tr>\n",
       "      <th>4</th>\n",
       "      <td>2004-01_AMS_CDT_2004001_005</td>\n",
       "      <td>[144, 145]</td>\n",
       "      <td>[96, 97]</td>\n",
       "      <td>-126.3015</td>\n",
       "      <td>70.0455</td>\n",
       "    </tr>\n",
       "    <tr>\n",
       "      <th>...</th>\n",
       "      <td>...</td>\n",
       "      <td>...</td>\n",
       "      <td>...</td>\n",
       "      <td>...</td>\n",
       "      <td>...</td>\n",
       "    </tr>\n",
       "    <tr>\n",
       "      <th>2007</th>\n",
       "      <td>2020-10_AMS_CDT_2020003_001</td>\n",
       "      <td>[383, 384, 383]</td>\n",
       "      <td>[29, 29, 30]</td>\n",
       "      <td>-65.6400</td>\n",
       "      <td>62.1462</td>\n",
       "    </tr>\n",
       "    <tr>\n",
       "      <th>2008</th>\n",
       "      <td>2020-10_AMS_CDT_2020003_002</td>\n",
       "      <td>[387, 386]</td>\n",
       "      <td>[30, 31]</td>\n",
       "      <td>-64.9487</td>\n",
       "      <td>62.0328</td>\n",
       "    </tr>\n",
       "    <tr>\n",
       "      <th>2009</th>\n",
       "      <td>2020-10_AMS_CDT_2020003_003</td>\n",
       "      <td>[396, 396]</td>\n",
       "      <td>[30, 31]</td>\n",
       "      <td>-63.5306</td>\n",
       "      <td>61.4916</td>\n",
       "    </tr>\n",
       "    <tr>\n",
       "      <th>2010</th>\n",
       "      <td>2020-10_AMS_CDT_2020003_004</td>\n",
       "      <td>[391, 392, 391]</td>\n",
       "      <td>[30, 30, 31]</td>\n",
       "      <td>-64.3015</td>\n",
       "      <td>61.7103</td>\n",
       "    </tr>\n",
       "    <tr>\n",
       "      <th>2011</th>\n",
       "      <td>2020-10_AMS_CDT_2020003_005</td>\n",
       "      <td>[204, 204]</td>\n",
       "      <td>[57, 58]</td>\n",
       "      <td>-105.6842</td>\n",
       "      <td>69.0113</td>\n",
       "    </tr>\n",
       "  </tbody>\n",
       "</table>\n",
       "<p>2012 rows × 5 columns</p>\n",
       "</div>"
      ],
      "text/plain": [
       "                       Station_ID            X_NAA         Y_NAA       Lon  \\\n",
       "0     2004-01_AMS_CDT_2004001_001       [144, 145]      [96, 97] -126.3017   \n",
       "1     2004-01_AMS_CDT_2004001_002       [144, 145]      [96, 97] -126.3015   \n",
       "2     2004-01_AMS_CDT_2004001_003       [144, 145]      [96, 97] -126.3015   \n",
       "3     2004-01_AMS_CDT_2004001_004       [144, 145]      [96, 97] -126.3015   \n",
       "4     2004-01_AMS_CDT_2004001_005       [144, 145]      [96, 97] -126.3015   \n",
       "...                           ...              ...           ...       ...   \n",
       "2007  2020-10_AMS_CDT_2020003_001  [383, 384, 383]  [29, 29, 30]  -65.6400   \n",
       "2008  2020-10_AMS_CDT_2020003_002       [387, 386]      [30, 31]  -64.9487   \n",
       "2009  2020-10_AMS_CDT_2020003_003       [396, 396]      [30, 31]  -63.5306   \n",
       "2010  2020-10_AMS_CDT_2020003_004  [391, 392, 391]  [30, 30, 31]  -64.3015   \n",
       "2011  2020-10_AMS_CDT_2020003_005       [204, 204]      [57, 58] -105.6842   \n",
       "\n",
       "          Lat  \n",
       "0     70.0455  \n",
       "1     70.0455  \n",
       "2     70.0455  \n",
       "3     70.0455  \n",
       "4     70.0455  \n",
       "...       ...  \n",
       "2007  62.1462  \n",
       "2008  62.0328  \n",
       "2009  61.4916  \n",
       "2010  61.7103  \n",
       "2011  69.0113  \n",
       "\n",
       "[2012 rows x 5 columns]"
      ]
     },
     "execution_count": 18,
     "metadata": {},
     "output_type": "execute_result"
    }
   ],
   "source": [
    "test = dataframe_creator(dsa)\n",
    "test"
   ]
  },
  {
   "cell_type": "code",
   "execution_count": null,
   "metadata": {},
   "outputs": [
    {
     "data": {
      "text/html": [
       "<div>\n",
       "<style scoped>\n",
       "    .dataframe tbody tr th:only-of-type {\n",
       "        vertical-align: middle;\n",
       "    }\n",
       "\n",
       "    .dataframe tbody tr th {\n",
       "        vertical-align: top;\n",
       "    }\n",
       "\n",
       "    .dataframe thead th {\n",
       "        text-align: right;\n",
       "    }\n",
       "</style>\n",
       "<table border=\"1\" class=\"dataframe\">\n",
       "  <thead>\n",
       "    <tr style=\"text-align: right;\">\n",
       "      <th></th>\n",
       "      <th>Station_ID</th>\n",
       "      <th>X_NAA</th>\n",
       "      <th>Y_NAA</th>\n",
       "      <th>Lon</th>\n",
       "      <th>Lat</th>\n",
       "    </tr>\n",
       "  </thead>\n",
       "  <tbody>\n",
       "    <tr>\n",
       "      <th>2007</th>\n",
       "      <td>2020-10_AMS_CDT_2020003_001</td>\n",
       "      <td>[383, 384, 383]</td>\n",
       "      <td>[29, 29, 30]</td>\n",
       "      <td>-65.64</td>\n",
       "      <td>62.1462</td>\n",
       "    </tr>\n",
       "  </tbody>\n",
       "</table>\n",
       "</div>"
      ],
      "text/plain": [
       "                       Station_ID            X_NAA         Y_NAA    Lon  \\\n",
       "2007  2020-10_AMS_CDT_2020003_001  [383, 384, 383]  [29, 29, 30] -65.64   \n",
       "\n",
       "          Lat  \n",
       "2007  62.1462  "
      ]
     },
     "execution_count": 105,
     "metadata": {},
     "output_type": "execute_result"
    }
   ],
   "source": [
    "fu = df.loc[df['Station_ID'] =='2020-10_AMS_CDT_2020003_001']\n",
    "fu"
   ]
  },
  {
   "cell_type": "code",
   "execution_count": null,
   "metadata": {},
   "outputs": [
    {
     "name": "stdout",
     "output_type": "stream",
     "text": [
      "l ['2007    [29', ' 29', ' 30]\\nName: Y_NAA', ' dtype: object']\n"
     ]
    },
    {
     "ename": "ValueError",
     "evalue": "invalid literal for int() with base 10: '007    [29'",
     "output_type": "error",
     "traceback": [
      "\u001b[0;31m---------------------------------------------------------------------------\u001b[0m",
      "\u001b[0;31mValueError\u001b[0m                                Traceback (most recent call last)",
      "\u001b[0;32m/tmp/ipykernel_31999/1895842999.py\u001b[0m in \u001b[0;36m<module>\u001b[0;34m\u001b[0m\n\u001b[1;32m      6\u001b[0m \u001b[0;34m\u001b[0m\u001b[0m\n\u001b[1;32m      7\u001b[0m   \u001b[0mprint\u001b[0m\u001b[0;34m(\u001b[0m\u001b[0;34m'l'\u001b[0m\u001b[0;34m,\u001b[0m  \u001b[0ml\u001b[0m\u001b[0;34m)\u001b[0m\u001b[0;34m\u001b[0m\u001b[0;34m\u001b[0m\u001b[0m\n\u001b[0;32m----> 8\u001b[0;31m   \u001b[0my\u001b[0m \u001b[0;34m=\u001b[0m \u001b[0mint\u001b[0m\u001b[0;34m(\u001b[0m\u001b[0ml\u001b[0m\u001b[0;34m[\u001b[0m\u001b[0;36m0\u001b[0m\u001b[0;34m]\u001b[0m\u001b[0;34m[\u001b[0m\u001b[0;36m1\u001b[0m\u001b[0;34m:\u001b[0m\u001b[0;34m]\u001b[0m\u001b[0;34m)\u001b[0m\u001b[0;34m\u001b[0m\u001b[0;34m\u001b[0m\u001b[0m\n\u001b[0m\u001b[1;32m      9\u001b[0m \u001b[0;34m\u001b[0m\u001b[0m\n",
      "\u001b[0;31mValueError\u001b[0m: invalid literal for int() with base 10: '007    [29'"
     ]
    }
   ],
   "source": [
    "Y = str(fu['Y_NAA']) \n",
    "y = np.array(Y)\n",
    "if ',' in Y: \n",
    "  yflag, yf= True, 1\n",
    "  l = Y.split(',')\n",
    "  \n",
    "  print('l',  l)\n",
    "  #y = int(l[0][1:])\n",
    "  "
   ]
  },
  {
   "cell_type": "code",
   "execution_count": null,
   "metadata": {},
   "outputs": [
    {
     "data": {
      "text/plain": [
       "' 29'"
      ]
     },
     "execution_count": 112,
     "metadata": {},
     "output_type": "execute_result"
    }
   ],
   "source": [
    "#print(Y)\n",
    "#print(y) #class 'numpy.str_' vs <class 'pandas.core.series.Series'>\n",
    "l[1]"
   ]
  }
 ],
 "metadata": {
  "kernelspec": {
   "display_name": "Python 3.9.7 ('jos_env_3-9')",
   "language": "python",
   "name": "python3"
  },
  "language_info": {
   "codemirror_mode": {
    "name": "ipython",
    "version": 3
   },
   "file_extension": ".py",
   "mimetype": "text/x-python",
   "name": "python",
   "nbconvert_exporter": "python",
   "pygments_lexer": "ipython3",
   "version": "3.9.7"
  },
  "orig_nbformat": 4,
  "vscode": {
   "interpreter": {
    "hash": "8f7076b4fe8ae52b5e4e7b1060f6d1f2aed2ea8e653fd7f9a66d993aa487dae7"
   }
  }
 },
 "nbformat": 4,
 "nbformat_minor": 2
}
